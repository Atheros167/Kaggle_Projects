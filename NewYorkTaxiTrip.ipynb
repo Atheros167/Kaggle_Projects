{
 "cells": [
  {
   "cell_type": "markdown",
   "metadata": {},
   "source": [
    "# New York Taxi Trip\n",
    "\n",
    "This is a Kaggle Competition where in the objective is to predict the trip duration for records in the test dataset.\n",
    "The train dataset has 1.45M records with fields such as:\n",
    "\n",
    "1. id -- Identifier for the taxi trip\n",
    "2. vendor_id -- a code indicating the provider associated with the trip record\n",
    "3. pickup_datetime -- date and time when the meter was engaged\n",
    "4. dropoff_datetime -- date and time when the meter was disengaged\n",
    "5. passenger_count -- the number of passengers in the vehicle (driver entered value)\n",
    "6. pickup_longitude -- the longitude where the meter was engaged\n",
    "7. pickup_latitude -- the latitude where the meter was engaged\n",
    "8. dropoff_longitude -- the longitude where the meter was disengaged\n",
    "9. dropoff_latitude -- the latitude where the meter was disengaged\n",
    "10. store_and_fwd_flag -- This flag indicates whether the trip record was held in vehicle memory before sending to the vendor because the vehicle did not have a connection to the server - Y=store and forward; N=not a store and forward trip\n",
    "11. trip_duration -- duration of the trip in seconds\n",
    "\n",
    "We also have a test dataset for which we are going to predict the trip duration.The test dataset has 625k records\n",
    "\n",
    "### Read the data"
   ]
  },
  {
   "cell_type": "code",
   "execution_count": 1,
   "metadata": {},
   "outputs": [
    {
     "data": {
      "text/plain": [
       "id                    1458644\n",
       "vendor_id             1458644\n",
       "pickup_datetime       1458644\n",
       "dropoff_datetime      1458644\n",
       "passenger_count       1458644\n",
       "pickup_longitude      1458644\n",
       "pickup_latitude       1458644\n",
       "dropoff_longitude     1458644\n",
       "dropoff_latitude      1458644\n",
       "store_and_fwd_flag    1458644\n",
       "trip_duration         1458644\n",
       "dtype: int64"
      ]
     },
     "execution_count": 1,
     "metadata": {},
     "output_type": "execute_result"
    }
   ],
   "source": [
    "import pandas as pd\n",
    "import numpy as np\n",
    "import matplotlib.pyplot as plt\n",
    "%matplotlib inline\n",
    "\n",
    "train=pd.read_csv(\"train.csv\")\n",
    "# train['trip_time_in_mins']=train['trip_duration']/3660\n",
    "test=pd.read_csv(\"test.csv\")\n",
    "train.count()"
   ]
  },
  {
   "cell_type": "code",
   "execution_count": 2,
   "metadata": {},
   "outputs": [
    {
     "data": {
      "text/html": [
       "<div>\n",
       "<style>\n",
       "    .dataframe thead tr:only-child th {\n",
       "        text-align: right;\n",
       "    }\n",
       "\n",
       "    .dataframe thead th {\n",
       "        text-align: left;\n",
       "    }\n",
       "\n",
       "    .dataframe tbody tr th {\n",
       "        vertical-align: top;\n",
       "    }\n",
       "</style>\n",
       "<table border=\"1\" class=\"dataframe\">\n",
       "  <thead>\n",
       "    <tr style=\"text-align: right;\">\n",
       "      <th></th>\n",
       "      <th>id</th>\n",
       "      <th>vendor_id</th>\n",
       "      <th>pickup_datetime</th>\n",
       "      <th>dropoff_datetime</th>\n",
       "      <th>passenger_count</th>\n",
       "      <th>pickup_longitude</th>\n",
       "      <th>pickup_latitude</th>\n",
       "      <th>dropoff_longitude</th>\n",
       "      <th>dropoff_latitude</th>\n",
       "      <th>store_and_fwd_flag</th>\n",
       "      <th>trip_duration</th>\n",
       "    </tr>\n",
       "  </thead>\n",
       "  <tbody>\n",
       "    <tr>\n",
       "      <th>0</th>\n",
       "      <td>id2875421</td>\n",
       "      <td>2</td>\n",
       "      <td>2016-03-14 17:24:55</td>\n",
       "      <td>2016-03-14 17:32:30</td>\n",
       "      <td>1</td>\n",
       "      <td>-73.982155</td>\n",
       "      <td>40.767937</td>\n",
       "      <td>-73.964630</td>\n",
       "      <td>40.765602</td>\n",
       "      <td>N</td>\n",
       "      <td>455</td>\n",
       "    </tr>\n",
       "    <tr>\n",
       "      <th>1</th>\n",
       "      <td>id2377394</td>\n",
       "      <td>1</td>\n",
       "      <td>2016-06-12 00:43:35</td>\n",
       "      <td>2016-06-12 00:54:38</td>\n",
       "      <td>1</td>\n",
       "      <td>-73.980415</td>\n",
       "      <td>40.738564</td>\n",
       "      <td>-73.999481</td>\n",
       "      <td>40.731152</td>\n",
       "      <td>N</td>\n",
       "      <td>663</td>\n",
       "    </tr>\n",
       "    <tr>\n",
       "      <th>2</th>\n",
       "      <td>id3858529</td>\n",
       "      <td>2</td>\n",
       "      <td>2016-01-19 11:35:24</td>\n",
       "      <td>2016-01-19 12:10:48</td>\n",
       "      <td>1</td>\n",
       "      <td>-73.979027</td>\n",
       "      <td>40.763939</td>\n",
       "      <td>-74.005333</td>\n",
       "      <td>40.710087</td>\n",
       "      <td>N</td>\n",
       "      <td>2124</td>\n",
       "    </tr>\n",
       "    <tr>\n",
       "      <th>3</th>\n",
       "      <td>id3504673</td>\n",
       "      <td>2</td>\n",
       "      <td>2016-04-06 19:32:31</td>\n",
       "      <td>2016-04-06 19:39:40</td>\n",
       "      <td>1</td>\n",
       "      <td>-74.010040</td>\n",
       "      <td>40.719971</td>\n",
       "      <td>-74.012268</td>\n",
       "      <td>40.706718</td>\n",
       "      <td>N</td>\n",
       "      <td>429</td>\n",
       "    </tr>\n",
       "    <tr>\n",
       "      <th>4</th>\n",
       "      <td>id2181028</td>\n",
       "      <td>2</td>\n",
       "      <td>2016-03-26 13:30:55</td>\n",
       "      <td>2016-03-26 13:38:10</td>\n",
       "      <td>1</td>\n",
       "      <td>-73.973053</td>\n",
       "      <td>40.793209</td>\n",
       "      <td>-73.972923</td>\n",
       "      <td>40.782520</td>\n",
       "      <td>N</td>\n",
       "      <td>435</td>\n",
       "    </tr>\n",
       "  </tbody>\n",
       "</table>\n",
       "</div>"
      ],
      "text/plain": [
       "          id  vendor_id      pickup_datetime     dropoff_datetime  \\\n",
       "0  id2875421          2  2016-03-14 17:24:55  2016-03-14 17:32:30   \n",
       "1  id2377394          1  2016-06-12 00:43:35  2016-06-12 00:54:38   \n",
       "2  id3858529          2  2016-01-19 11:35:24  2016-01-19 12:10:48   \n",
       "3  id3504673          2  2016-04-06 19:32:31  2016-04-06 19:39:40   \n",
       "4  id2181028          2  2016-03-26 13:30:55  2016-03-26 13:38:10   \n",
       "\n",
       "   passenger_count  pickup_longitude  pickup_latitude  dropoff_longitude  \\\n",
       "0                1        -73.982155        40.767937         -73.964630   \n",
       "1                1        -73.980415        40.738564         -73.999481   \n",
       "2                1        -73.979027        40.763939         -74.005333   \n",
       "3                1        -74.010040        40.719971         -74.012268   \n",
       "4                1        -73.973053        40.793209         -73.972923   \n",
       "\n",
       "   dropoff_latitude store_and_fwd_flag  trip_duration  \n",
       "0         40.765602                  N            455  \n",
       "1         40.731152                  N            663  \n",
       "2         40.710087                  N           2124  \n",
       "3         40.706718                  N            429  \n",
       "4         40.782520                  N            435  "
      ]
     },
     "execution_count": 2,
     "metadata": {},
     "output_type": "execute_result"
    }
   ],
   "source": [
    "train.head()"
   ]
  },
  {
   "cell_type": "markdown",
   "metadata": {},
   "source": [
    "### Table Attributes"
   ]
  },
  {
   "cell_type": "code",
   "execution_count": 3,
   "metadata": {
    "collapsed": true,
    "scrolled": false
   },
   "outputs": [],
   "source": [
    "import datetime\n",
    "\n",
    "R=6373.0\n",
    "\n",
    "def format_data(arg):\n",
    "    \n",
    "    # First step is to calculate the distance between the points\n",
    "    lat1=np.radians(np.array(arg['dropoff_latitude']))\n",
    "    lat2=np.radians(np.array(arg['pickup_latitude']))\n",
    "    lon1=np.radians(np.array(arg['dropoff_longitude']))\n",
    "    lon2=np.radians(np.array(arg['pickup_longitude']))\n",
    "    temp1=lon1-lon2\n",
    "    temp2=lat1-lat2\n",
    "    temp3=(np.sin(temp2/2))**2 +(np.cos(lat1)*np.cos(lat2)*(np.sin(temp1/2))**2)\n",
    "    temp4=2*np.arctan2(np.sqrt(temp3),np.sqrt(1-temp3))\n",
    "    arg['dist_km']=pd.DataFrame(R*temp4)\n",
    "\n",
    "    \n",
    "    # Second Step is to get the day of week and hour of day from the pickup and dropoff time stamps\n",
    "    arg['day_of_week']=pd.to_datetime(arg['pickup_datetime']).dt.dayofweek\n",
    "    \n",
    "    # Third, Lets get the hour of time\n",
    "    arg['hour_of_day']=pd.to_datetime(arg['pickup_datetime']).dt.hour\n",
    "    \n",
    "    # Fourth, Lets add the day of the trip\n",
    "    arg['date_of_trip']=pd.to_datetime(arg['pickup_datetime']).dt.date\n",
    "    \n",
    "        \n",
    "format_data(train)\n",
    "format_data(test)\n",
    "\n",
    "\n",
    "test=test[['day_of_week','hour_of_day','date_of_trip','store_and_fwd_flag','dist_km','passenger_count','vendor_id','id']]"
   ]
  },
  {
   "cell_type": "code",
   "execution_count": 4,
   "metadata": {},
   "outputs": [
    {
     "data": {
      "text/html": [
       "<div>\n",
       "<style>\n",
       "    .dataframe thead tr:only-child th {\n",
       "        text-align: right;\n",
       "    }\n",
       "\n",
       "    .dataframe thead th {\n",
       "        text-align: left;\n",
       "    }\n",
       "\n",
       "    .dataframe tbody tr th {\n",
       "        vertical-align: top;\n",
       "    }\n",
       "</style>\n",
       "<table border=\"1\" class=\"dataframe\">\n",
       "  <thead>\n",
       "    <tr style=\"text-align: right;\">\n",
       "      <th></th>\n",
       "      <th>id</th>\n",
       "      <th>vendor_id</th>\n",
       "      <th>pickup_datetime</th>\n",
       "      <th>dropoff_datetime</th>\n",
       "      <th>passenger_count</th>\n",
       "      <th>pickup_longitude</th>\n",
       "      <th>pickup_latitude</th>\n",
       "      <th>dropoff_longitude</th>\n",
       "      <th>dropoff_latitude</th>\n",
       "      <th>store_and_fwd_flag</th>\n",
       "      <th>trip_duration</th>\n",
       "      <th>dist_km</th>\n",
       "      <th>day_of_week</th>\n",
       "      <th>hour_of_day</th>\n",
       "      <th>date_of_trip</th>\n",
       "    </tr>\n",
       "  </thead>\n",
       "  <tbody>\n",
       "    <tr>\n",
       "      <th>0</th>\n",
       "      <td>id2875421</td>\n",
       "      <td>2</td>\n",
       "      <td>2016-03-14 17:24:55</td>\n",
       "      <td>2016-03-14 17:32:30</td>\n",
       "      <td>1</td>\n",
       "      <td>-73.982155</td>\n",
       "      <td>40.767937</td>\n",
       "      <td>-73.964630</td>\n",
       "      <td>40.765602</td>\n",
       "      <td>N</td>\n",
       "      <td>455</td>\n",
       "      <td>1.498991</td>\n",
       "      <td>0</td>\n",
       "      <td>17</td>\n",
       "      <td>2016-03-14</td>\n",
       "    </tr>\n",
       "    <tr>\n",
       "      <th>1</th>\n",
       "      <td>id2377394</td>\n",
       "      <td>1</td>\n",
       "      <td>2016-06-12 00:43:35</td>\n",
       "      <td>2016-06-12 00:54:38</td>\n",
       "      <td>1</td>\n",
       "      <td>-73.980415</td>\n",
       "      <td>40.738564</td>\n",
       "      <td>-73.999481</td>\n",
       "      <td>40.731152</td>\n",
       "      <td>N</td>\n",
       "      <td>663</td>\n",
       "      <td>1.806074</td>\n",
       "      <td>6</td>\n",
       "      <td>0</td>\n",
       "      <td>2016-06-12</td>\n",
       "    </tr>\n",
       "    <tr>\n",
       "      <th>2</th>\n",
       "      <td>id3858529</td>\n",
       "      <td>2</td>\n",
       "      <td>2016-01-19 11:35:24</td>\n",
       "      <td>2016-01-19 12:10:48</td>\n",
       "      <td>1</td>\n",
       "      <td>-73.979027</td>\n",
       "      <td>40.763939</td>\n",
       "      <td>-74.005333</td>\n",
       "      <td>40.710087</td>\n",
       "      <td>N</td>\n",
       "      <td>2124</td>\n",
       "      <td>6.387103</td>\n",
       "      <td>1</td>\n",
       "      <td>11</td>\n",
       "      <td>2016-01-19</td>\n",
       "    </tr>\n",
       "    <tr>\n",
       "      <th>3</th>\n",
       "      <td>id3504673</td>\n",
       "      <td>2</td>\n",
       "      <td>2016-04-06 19:32:31</td>\n",
       "      <td>2016-04-06 19:39:40</td>\n",
       "      <td>1</td>\n",
       "      <td>-74.010040</td>\n",
       "      <td>40.719971</td>\n",
       "      <td>-74.012268</td>\n",
       "      <td>40.706718</td>\n",
       "      <td>N</td>\n",
       "      <td>429</td>\n",
       "      <td>1.485965</td>\n",
       "      <td>2</td>\n",
       "      <td>19</td>\n",
       "      <td>2016-04-06</td>\n",
       "    </tr>\n",
       "    <tr>\n",
       "      <th>4</th>\n",
       "      <td>id2181028</td>\n",
       "      <td>2</td>\n",
       "      <td>2016-03-26 13:30:55</td>\n",
       "      <td>2016-03-26 13:38:10</td>\n",
       "      <td>1</td>\n",
       "      <td>-73.973053</td>\n",
       "      <td>40.793209</td>\n",
       "      <td>-73.972923</td>\n",
       "      <td>40.782520</td>\n",
       "      <td>N</td>\n",
       "      <td>435</td>\n",
       "      <td>1.188962</td>\n",
       "      <td>5</td>\n",
       "      <td>13</td>\n",
       "      <td>2016-03-26</td>\n",
       "    </tr>\n",
       "  </tbody>\n",
       "</table>\n",
       "</div>"
      ],
      "text/plain": [
       "          id  vendor_id      pickup_datetime     dropoff_datetime  \\\n",
       "0  id2875421          2  2016-03-14 17:24:55  2016-03-14 17:32:30   \n",
       "1  id2377394          1  2016-06-12 00:43:35  2016-06-12 00:54:38   \n",
       "2  id3858529          2  2016-01-19 11:35:24  2016-01-19 12:10:48   \n",
       "3  id3504673          2  2016-04-06 19:32:31  2016-04-06 19:39:40   \n",
       "4  id2181028          2  2016-03-26 13:30:55  2016-03-26 13:38:10   \n",
       "\n",
       "   passenger_count  pickup_longitude  pickup_latitude  dropoff_longitude  \\\n",
       "0                1        -73.982155        40.767937         -73.964630   \n",
       "1                1        -73.980415        40.738564         -73.999481   \n",
       "2                1        -73.979027        40.763939         -74.005333   \n",
       "3                1        -74.010040        40.719971         -74.012268   \n",
       "4                1        -73.973053        40.793209         -73.972923   \n",
       "\n",
       "   dropoff_latitude store_and_fwd_flag  trip_duration   dist_km  day_of_week  \\\n",
       "0         40.765602                  N            455  1.498991            0   \n",
       "1         40.731152                  N            663  1.806074            6   \n",
       "2         40.710087                  N           2124  6.387103            1   \n",
       "3         40.706718                  N            429  1.485965            2   \n",
       "4         40.782520                  N            435  1.188962            5   \n",
       "\n",
       "   hour_of_day date_of_trip  \n",
       "0           17   2016-03-14  \n",
       "1            0   2016-06-12  \n",
       "2           11   2016-01-19  \n",
       "3           19   2016-04-06  \n",
       "4           13   2016-03-26  "
      ]
     },
     "execution_count": 4,
     "metadata": {},
     "output_type": "execute_result"
    }
   ],
   "source": [
    "train.head()"
   ]
  },
  {
   "cell_type": "markdown",
   "metadata": {},
   "source": [
    "### Exploratory Data Analysis\n",
    "\n",
    "    1. Exploring the Passenger_count"
   ]
  },
  {
   "cell_type": "code",
   "execution_count": 5,
   "metadata": {},
   "outputs": [
    {
     "data": {
      "text/plain": [
       "<matplotlib.text.Text at 0x7f694964af28>"
      ]
     },
     "execution_count": 5,
     "metadata": {},
     "output_type": "execute_result"
    },
    {
     "data": {
      "image/png": "[encoded data removed]",
      "text/plain": [
       "<matplotlib.figure.Figure at 0x7f696a7d6748>"
      ]
     },
     "metadata": {},
     "output_type": "display_data"
    }
   ],
   "source": [
    "temp=train[['passenger_count','trip_duration']].groupby('passenger_count',as_index=False).count()\n",
    "temp.columns=['Passenger_count','trip_records']\n",
    "temp.set_index(['Passenger_count'],inplace=True)\n",
    "temp.plot.bar()\n",
    "plt.xticks(rotation=0)\n",
    "plt.xlabel('Passenger_count')"
   ]
  },
  {
   "cell_type": "markdown",
   "metadata": {},
   "source": [
    "* Based on the above chart, we can see that there are records with 0 Passenger counts and also with 7,8 and 9. \n",
    "* A normal Taxi can carry a max of 6 passenger (in case of mini van)\n",
    "* Ignoring all the 0 Passenger count records and all passenger_counts greater than 6"
   ]
  },
  {
   "cell_type": "code",
   "execution_count": 6,
   "metadata": {},
   "outputs": [
    {
     "data": {
      "text/plain": [
       "<matplotlib.text.Text at 0x7f696853c860>"
      ]
     },
     "execution_count": 6,
     "metadata": {},
     "output_type": "execute_result"
    },
    {
     "data": {
      "image/png": "[encoded data removed]",
      "text/plain": [
       "<matplotlib.figure.Figure at 0x7f695228ca90>"
      ]
     },
     "metadata": {},
     "output_type": "display_data"
    }
   ],
   "source": [
    "# Keeping only the records with passenger counts < 7\n",
    "train=train.loc[(train['passenger_count'] < 7 )]\n",
    "\n",
    "# Also elimimnating the records with passenger_counts=0\n",
    "train=train.loc[train['passenger_count']!= 0]\n",
    "\n",
    "# Lets take a look at the data again to ensure the removal occurred without any surprises\n",
    "temp=train[['passenger_count','trip_duration']].groupby('passenger_count',as_index=False).count()\n",
    "temp.columns=['Passenger_count','trip_records']\n",
    "temp.set_index(['Passenger_count'],inplace=True)\n",
    "temp\n",
    "temp.plot.bar()\n",
    "plt.xticks(rotation=0)\n",
    "plt.xlabel('Passenger_count')"
   ]
  },
  {
   "cell_type": "markdown",
   "metadata": {},
   "source": [
    "    2. Exploring the dist_km variable\n",
    "\n",
    "* Dist_km is calculated using haversine formula to calculate the distance from the longitudes and latitudes available.\n",
    "* From the data it looks like there are 5897 records with the same longitudes and latitudes for pickup and dropoff.\n",
    "* Eventhough it is possible that these trip are legitimate with the trip being retur trips, for our purposes, we will be dropping these to ensure the variance in the model reduces"
   ]
  },
  {
   "cell_type": "code",
   "execution_count": 7,
   "metadata": {},
   "outputs": [
    {
     "data": {
      "text/plain": [
       "<matplotlib.text.Text at 0x7f696842d390>"
      ]
     },
     "execution_count": 7,
     "metadata": {},
     "output_type": "execute_result"
    },
    {
     "data": {
      "image/png": "[encoded data removed]",
      "text/plain": [
       "<matplotlib.figure.Figure at 0x7f6968426f60>"
      ]
     },
     "metadata": {},
     "output_type": "display_data"
    }
   ],
   "source": [
    "train=train.loc[train['dist_km']>0]\n",
    "train['dist_int']=train['dist_km'].apply(int)\n",
    "train=train[['day_of_week','hour_of_day','store_and_fwd_flag','dist_km','passenger_count','vendor_id','trip_duration','dist_int']]\n",
    "train.head()\n",
    "\n",
    "temp=train[['dist_int','trip_duration']].groupby('dist_int',as_index=False).mean()\n",
    "temp.columns=['dist_int','avg_trip_time']\n",
    "temp.set_index(['dist_int'],inplace=True)\n",
    "temp\n",
    "temp.plot.bar(figsize=(30,20))\n",
    "plt.xticks(rotation=0)\n",
    "plt.ylabel('avg_trip_time_in_seconds')\n",
    "plt.xlabel('dist_int')\n",
    "# temp=train[['dist_int','passenger_count']].groupby('dist_int',as_index=False).count()\n",
    "# temp.columns=['dist_int','trip_records']\n",
    "# temp.set_index(['dist_int'],inplace=True)\n",
    "# temp[temp['trip_records']<10]"
   ]
  },
  {
   "cell_type": "markdown",
   "metadata": {},
   "source": [
    "* Based on the graph above, we find that there are records where the rounded distance > 400 Km which is roughly the distance to washington. For our model purposes, I would be eliminating all the records where the distance of trip is greater than or equal to 400KM. \n",
    "\n",
    "* Also based on the average trip duration and trip distance they do not make sense"
   ]
  },
  {
   "cell_type": "code",
   "execution_count": 8,
   "metadata": {
    "collapsed": true
   },
   "outputs": [],
   "source": [
    "# Eliminating records with trip distance greater than or equal to 400 KM\n",
    "train=train[train['dist_km']<400]"
   ]
  },
  {
   "cell_type": "markdown",
   "metadata": {
    "collapsed": true
   },
   "source": [
    "There are a few outlier as well in the data looking at the chart above.\n",
    "For example the trip distance=60 the average trip duration spikes.\n",
    "Lets look at some of these individually"
   ]
  },
  {
   "cell_type": "code",
   "execution_count": 9,
   "metadata": {},
   "outputs": [
    {
     "data": {
      "text/html": [
       "<div>\n",
       "<style>\n",
       "    .dataframe thead tr:only-child th {\n",
       "        text-align: right;\n",
       "    }\n",
       "\n",
       "    .dataframe thead th {\n",
       "        text-align: left;\n",
       "    }\n",
       "\n",
       "    .dataframe tbody tr th {\n",
       "        vertical-align: top;\n",
       "    }\n",
       "</style>\n",
       "<table border=\"1\" class=\"dataframe\">\n",
       "  <thead>\n",
       "    <tr style=\"text-align: right;\">\n",
       "      <th></th>\n",
       "      <th>day_of_week</th>\n",
       "      <th>hour_of_day</th>\n",
       "      <th>store_and_fwd_flag</th>\n",
       "      <th>dist_km</th>\n",
       "      <th>passenger_count</th>\n",
       "      <th>vendor_id</th>\n",
       "      <th>trip_duration</th>\n",
       "      <th>dist_int</th>\n",
       "    </tr>\n",
       "  </thead>\n",
       "  <tbody>\n",
       "    <tr>\n",
       "      <th>673634</th>\n",
       "      <td>4</td>\n",
       "      <td>2</td>\n",
       "      <td>N</td>\n",
       "      <td>60.988487</td>\n",
       "      <td>1</td>\n",
       "      <td>1</td>\n",
       "      <td>3041</td>\n",
       "      <td>60</td>\n",
       "    </tr>\n",
       "    <tr>\n",
       "      <th>900381</th>\n",
       "      <td>5</td>\n",
       "      <td>13</td>\n",
       "      <td>N</td>\n",
       "      <td>60.617209</td>\n",
       "      <td>5</td>\n",
       "      <td>2</td>\n",
       "      <td>85561</td>\n",
       "      <td>60</td>\n",
       "    </tr>\n",
       "    <tr>\n",
       "      <th>1257988</th>\n",
       "      <td>3</td>\n",
       "      <td>23</td>\n",
       "      <td>N</td>\n",
       "      <td>60.965994</td>\n",
       "      <td>1</td>\n",
       "      <td>1</td>\n",
       "      <td>5201</td>\n",
       "      <td>60</td>\n",
       "    </tr>\n",
       "  </tbody>\n",
       "</table>\n",
       "</div>"
      ],
      "text/plain": [
       "         day_of_week  hour_of_day store_and_fwd_flag    dist_km  \\\n",
       "673634             4            2                  N  60.988487   \n",
       "900381             5           13                  N  60.617209   \n",
       "1257988            3           23                  N  60.965994   \n",
       "\n",
       "         passenger_count  vendor_id  trip_duration  dist_int  \n",
       "673634                 1          1           3041        60  \n",
       "900381                 5          2          85561        60  \n",
       "1257988                1          1           5201        60  "
      ]
     },
     "execution_count": 9,
     "metadata": {},
     "output_type": "execute_result"
    }
   ],
   "source": [
    "train[train['dist_int']==60]"
   ]
  },
  {
   "cell_type": "markdown",
   "metadata": {},
   "source": [
    "Here there is a trip record where the trip distance and trip duration do not align to intuition. The trip duration of 85561 for a distance of 60.61KM could be due to external reasons such as traffic jam (One hell of a traffic jam!!!) or the now famous New York Snow day. \n",
    "\n",
    "But for the sake of more context, lets look at more of such occurences\n",
    "1. First there are 4 records with trip duration >200000 seconds which is greater than 2 Days. Lets eliminate these records"
   ]
  },
  {
   "cell_type": "code",
   "execution_count": 10,
   "metadata": {},
   "outputs": [
    {
     "data": {
      "text/plain": [
       "<matplotlib.text.Text at 0x7f69673b4828>"
      ]
     },
     "execution_count": 10,
     "metadata": {},
     "output_type": "execute_result"
    },
    {
     "data": {
      "image/png": "[encoded data removed]",
      "text/plain": [
       "<matplotlib.figure.Figure at 0x7f6968595ba8>"
      ]
     },
     "metadata": {},
     "output_type": "display_data"
    }
   ],
   "source": [
    "# Remove trip_duration>200000 outliers\n",
    "\n",
    "train=train[train['trip_duration']<200000]\n",
    "\n",
    "# Replotting the grapph after removing the 4 observations\n",
    "temp=train[['dist_int','trip_duration']].groupby('dist_int',as_index=False).mean()\n",
    "temp.columns=['dist_int','avg_time']\n",
    "temp.set_index(['dist_int'],inplace=True)\n",
    "temp\n",
    "temp.plot.bar(figsize=(20,20))\n",
    "plt.xticks(rotation=0)\n",
    "plt.ylabel('avg_time', fontsize=18)\n",
    "plt.xlabel('dist_int', fontsize=18)"
   ]
  },
  {
   "cell_type": "markdown",
   "metadata": {},
   "source": [
    "Lets eliminate some more more records with trip duration greater than 20000\n",
    "    * There are 2060 such records that we can eliminiate since these are skewing our results\n",
    "    * There also are records for trip distance in (85,104) km where the trip duration does not make sense.\n",
    "    * Lets also eliminate them\n",
    "    * Lets plot out the Graph again"
   ]
  },
  {
   "cell_type": "code",
   "execution_count": 11,
   "metadata": {},
   "outputs": [
    {
     "data": {
      "text/plain": [
       "day_of_week           2060\n",
       "hour_of_day           2060\n",
       "store_and_fwd_flag    2060\n",
       "dist_km               2060\n",
       "passenger_count       2060\n",
       "vendor_id             2060\n",
       "trip_duration         2060\n",
       "dist_int              2060\n",
       "dtype: int64"
      ]
     },
     "execution_count": 11,
     "metadata": {},
     "output_type": "execute_result"
    }
   ],
   "source": [
    "temp=train[train['trip_duration']>20000].count()\n",
    "train=train[train['trip_duration']<20000]\n",
    "temp"
   ]
  },
  {
   "cell_type": "code",
   "execution_count": 12,
   "metadata": {},
   "outputs": [
    {
     "data": {
      "text/html": [
       "<div>\n",
       "<style>\n",
       "    .dataframe thead tr:only-child th {\n",
       "        text-align: right;\n",
       "    }\n",
       "\n",
       "    .dataframe thead th {\n",
       "        text-align: left;\n",
       "    }\n",
       "\n",
       "    .dataframe tbody tr th {\n",
       "        vertical-align: top;\n",
       "    }\n",
       "</style>\n",
       "<table border=\"1\" class=\"dataframe\">\n",
       "  <thead>\n",
       "    <tr style=\"text-align: right;\">\n",
       "      <th></th>\n",
       "      <th>day_of_week</th>\n",
       "      <th>hour_of_day</th>\n",
       "      <th>store_and_fwd_flag</th>\n",
       "      <th>dist_km</th>\n",
       "      <th>passenger_count</th>\n",
       "      <th>vendor_id</th>\n",
       "      <th>trip_duration</th>\n",
       "      <th>dist_int</th>\n",
       "    </tr>\n",
       "  </thead>\n",
       "  <tbody>\n",
       "    <tr>\n",
       "      <th>275644</th>\n",
       "      <td>2</td>\n",
       "      <td>16</td>\n",
       "      <td>N</td>\n",
       "      <td>314.863015</td>\n",
       "      <td>4</td>\n",
       "      <td>1</td>\n",
       "      <td>875</td>\n",
       "      <td>314</td>\n",
       "    </tr>\n",
       "    <tr>\n",
       "      <th>283102</th>\n",
       "      <td>6</td>\n",
       "      <td>16</td>\n",
       "      <td>N</td>\n",
       "      <td>112.584203</td>\n",
       "      <td>1</td>\n",
       "      <td>2</td>\n",
       "      <td>427</td>\n",
       "      <td>112</td>\n",
       "    </tr>\n",
       "    <tr>\n",
       "      <th>377068</th>\n",
       "      <td>5</td>\n",
       "      <td>20</td>\n",
       "      <td>N</td>\n",
       "      <td>320.226270</td>\n",
       "      <td>1</td>\n",
       "      <td>1</td>\n",
       "      <td>282</td>\n",
       "      <td>320</td>\n",
       "    </tr>\n",
       "    <tr>\n",
       "      <th>595540</th>\n",
       "      <td>6</td>\n",
       "      <td>21</td>\n",
       "      <td>N</td>\n",
       "      <td>104.792857</td>\n",
       "      <td>1</td>\n",
       "      <td>1</td>\n",
       "      <td>279</td>\n",
       "      <td>104</td>\n",
       "    </tr>\n",
       "    <tr>\n",
       "      <th>644165</th>\n",
       "      <td>3</td>\n",
       "      <td>15</td>\n",
       "      <td>N</td>\n",
       "      <td>254.443373</td>\n",
       "      <td>1</td>\n",
       "      <td>2</td>\n",
       "      <td>804</td>\n",
       "      <td>254</td>\n",
       "    </tr>\n",
       "    <tr>\n",
       "      <th>1359910</th>\n",
       "      <td>3</td>\n",
       "      <td>18</td>\n",
       "      <td>N</td>\n",
       "      <td>85.911837</td>\n",
       "      <td>1</td>\n",
       "      <td>1</td>\n",
       "      <td>548</td>\n",
       "      <td>85</td>\n",
       "    </tr>\n",
       "  </tbody>\n",
       "</table>\n",
       "</div>"
      ],
      "text/plain": [
       "         day_of_week  hour_of_day store_and_fwd_flag     dist_km  \\\n",
       "275644             2           16                  N  314.863015   \n",
       "283102             6           16                  N  112.584203   \n",
       "377068             5           20                  N  320.226270   \n",
       "595540             6           21                  N  104.792857   \n",
       "644165             3           15                  N  254.443373   \n",
       "1359910            3           18                  N   85.911837   \n",
       "\n",
       "         passenger_count  vendor_id  trip_duration  dist_int  \n",
       "275644                 4          1            875       314  \n",
       "283102                 1          2            427       112  \n",
       "377068                 1          1            282       320  \n",
       "595540                 1          1            279       104  \n",
       "644165                 1          2            804       254  \n",
       "1359910                1          1            548        85  "
      ]
     },
     "execution_count": 12,
     "metadata": {},
     "output_type": "execute_result"
    }
   ],
   "source": [
    "temp=train[(train['dist_int']>=85) & (train['trip_duration']<1000)]\n",
    "\n",
    "temp\n",
    "# temp=train[['dist_int','trip_duration']].groupby('dist_int',as_index=False).mean()\n",
    "# temp.columns=['dist_int','avg_time']\n",
    "# temp.set_index(['dist_int'],inplace=True)\n",
    "# temp\n",
    "# temp.plot.bar(figsize=(20,20))\n",
    "# plt.xticks(rotation=0)\n",
    "# plt.ylabel('avg_time', fontsize=18)\n",
    "# plt.xlabel('dist_int', fontsize=18)"
   ]
  },
  {
   "cell_type": "code",
   "execution_count": 13,
   "metadata": {
    "collapsed": true
   },
   "outputs": [],
   "source": [
    "train=train.merge(temp[['dist_int','trip_duration','passenger_count']],how='left',on=['dist_int','trip_duration'])\n",
    "train=train[train['passenger_count_y'].isnull()]\n",
    "del train['passenger_count_y']"
   ]
  },
  {
   "cell_type": "code",
   "execution_count": 14,
   "metadata": {},
   "outputs": [
    {
     "data": {
      "text/plain": [
       "<matplotlib.text.Text at 0x7f6969990c88>"
      ]
     },
     "execution_count": 14,
     "metadata": {},
     "output_type": "execute_result"
    },
    {
     "data": {
      "image/png": "[encoded data removed]",
      "text/plain": [
       "<matplotlib.figure.Figure at 0x7f69699f1cf8>"
      ]
     },
     "metadata": {},
     "output_type": "display_data"
    }
   ],
   "source": [
    "train=train[(train['trip_duration']<8000) & (train['dist_int']<215)]\n",
    "# Replotting the grapph after removing the 4 observations\n",
    "temp=train[['dist_int','trip_duration']].groupby('dist_int',as_index=False).mean()\n",
    "temp.columns=['dist_int','avg_time']\n",
    "temp.set_index(['dist_int'],inplace=True)\n",
    "temp\n",
    "temp.plot.bar(figsize=(20,20))\n",
    "plt.xticks(rotation=0)\n",
    "plt.ylabel('avg_time', fontsize=18)\n",
    "plt.xlabel('dist_int', fontsize=18)"
   ]
  },
  {
   "cell_type": "code",
   "execution_count": 15,
   "metadata": {},
   "outputs": [
    {
     "data": {
      "text/html": [
       "<div>\n",
       "<style>\n",
       "    .dataframe thead tr:only-child th {\n",
       "        text-align: right;\n",
       "    }\n",
       "\n",
       "    .dataframe thead th {\n",
       "        text-align: left;\n",
       "    }\n",
       "\n",
       "    .dataframe tbody tr th {\n",
       "        vertical-align: top;\n",
       "    }\n",
       "</style>\n",
       "<table border=\"1\" class=\"dataframe\">\n",
       "  <thead>\n",
       "    <tr style=\"text-align: right;\">\n",
       "      <th></th>\n",
       "      <th>day_of_week</th>\n",
       "      <th>hour_of_day</th>\n",
       "      <th>store_and_fwd_flag</th>\n",
       "      <th>dist_km</th>\n",
       "      <th>passenger_count_x</th>\n",
       "      <th>vendor_id</th>\n",
       "      <th>trip_duration</th>\n",
       "      <th>dist_int</th>\n",
       "    </tr>\n",
       "  </thead>\n",
       "  <tbody>\n",
       "    <tr>\n",
       "      <th>0</th>\n",
       "      <td>0</td>\n",
       "      <td>17</td>\n",
       "      <td>N</td>\n",
       "      <td>1.498991</td>\n",
       "      <td>1</td>\n",
       "      <td>2</td>\n",
       "      <td>455</td>\n",
       "      <td>1</td>\n",
       "    </tr>\n",
       "    <tr>\n",
       "      <th>1</th>\n",
       "      <td>6</td>\n",
       "      <td>0</td>\n",
       "      <td>N</td>\n",
       "      <td>1.806074</td>\n",
       "      <td>1</td>\n",
       "      <td>1</td>\n",
       "      <td>663</td>\n",
       "      <td>1</td>\n",
       "    </tr>\n",
       "    <tr>\n",
       "      <th>2</th>\n",
       "      <td>1</td>\n",
       "      <td>11</td>\n",
       "      <td>N</td>\n",
       "      <td>6.387103</td>\n",
       "      <td>1</td>\n",
       "      <td>2</td>\n",
       "      <td>2124</td>\n",
       "      <td>6</td>\n",
       "    </tr>\n",
       "    <tr>\n",
       "      <th>3</th>\n",
       "      <td>2</td>\n",
       "      <td>19</td>\n",
       "      <td>N</td>\n",
       "      <td>1.485965</td>\n",
       "      <td>1</td>\n",
       "      <td>2</td>\n",
       "      <td>429</td>\n",
       "      <td>1</td>\n",
       "    </tr>\n",
       "    <tr>\n",
       "      <th>4</th>\n",
       "      <td>5</td>\n",
       "      <td>13</td>\n",
       "      <td>N</td>\n",
       "      <td>1.188962</td>\n",
       "      <td>1</td>\n",
       "      <td>2</td>\n",
       "      <td>435</td>\n",
       "      <td>1</td>\n",
       "    </tr>\n",
       "  </tbody>\n",
       "</table>\n",
       "</div>"
      ],
      "text/plain": [
       "   day_of_week  hour_of_day store_and_fwd_flag   dist_km  passenger_count_x  \\\n",
       "0            0           17                  N  1.498991                  1   \n",
       "1            6            0                  N  1.806074                  1   \n",
       "2            1           11                  N  6.387103                  1   \n",
       "3            2           19                  N  1.485965                  1   \n",
       "4            5           13                  N  1.188962                  1   \n",
       "\n",
       "   vendor_id  trip_duration  dist_int  \n",
       "0          2            455         1  \n",
       "1          1            663         1  \n",
       "2          2           2124         6  \n",
       "3          2            429         1  \n",
       "4          2            435         1  "
      ]
     },
     "execution_count": 15,
     "metadata": {},
     "output_type": "execute_result"
    }
   ],
   "source": [
    "# del train['dist_int']\n",
    "train.head()"
   ]
  },
  {
   "cell_type": "markdown",
   "metadata": {},
   "source": [
    "    3. Exploring the day_of_week variable"
   ]
  },
  {
   "cell_type": "code",
   "execution_count": 16,
   "metadata": {},
   "outputs": [
    {
     "data": {
      "text/plain": [
       "<matplotlib.text.Text at 0x7f6969aca940>"
      ]
     },
     "execution_count": 16,
     "metadata": {},
     "output_type": "execute_result"
    },
    {
     "data": {
      "image/png": "[encoded data removed]",
      "text/plain": [
       "<matplotlib.figure.Figure at 0x7f6969b77f98>"
      ]
     },
     "metadata": {},
     "output_type": "display_data"
    }
   ],
   "source": [
    "day_of_week=train[['day_of_week','dist_km']].groupby('day_of_week').mean()\n",
    "day_of_week.plot.bar()\n",
    "plt.xticks(rotation=0)\n",
    "plt.ylabel('avg_distance', fontsize=18)\n",
    "plt.xlabel('day_of_week', fontsize=18)"
   ]
  },
  {
   "cell_type": "markdown",
   "metadata": {},
   "source": [
    "Looking at the table below the data looks sensible.\n",
    "* 0 being Monday and 6 being Sunday, the travel times seem to make sense somewhat--(less on weekends compared to weekdays)\n",
    "* Also in the next table, the number of trip are more for Fridays and Saturday.\n",
    "    "
   ]
  },
  {
   "cell_type": "code",
   "execution_count": 17,
   "metadata": {},
   "outputs": [
    {
     "data": {
      "text/plain": [
       "<matplotlib.text.Text at 0x7f6941da7f98>"
      ]
     },
     "execution_count": 17,
     "metadata": {},
     "output_type": "execute_result"
    },
    {
     "data": {
      "image/png": "[encoded data removed]",
      "text/plain": [
       "<matplotlib.figure.Figure at 0x7f6969a9bfd0>"
      ]
     },
     "metadata": {},
     "output_type": "display_data"
    }
   ],
   "source": [
    "day_of_week=train[['day_of_week','trip_duration']].groupby('day_of_week').mean()\n",
    "day_of_week.plot.bar()\n",
    "plt.xticks(rotation=0)\n",
    "plt.ylabel('avg_time', fontsize=18)\n",
    "plt.xlabel('day_of_week', fontsize=18)"
   ]
  },
  {
   "cell_type": "code",
   "execution_count": 18,
   "metadata": {},
   "outputs": [
    {
     "data": {
      "text/plain": [
       "<matplotlib.text.Text at 0x7f6941efacf8>"
      ]
     },
     "execution_count": 18,
     "metadata": {},
     "output_type": "execute_result"
    },
    {
     "data": {
      "image/png": "[encoded data removed]",
      "text/plain": [
       "<matplotlib.figure.Figure at 0x7f6942e0c978>"
      ]
     },
     "metadata": {},
     "output_type": "display_data"
    }
   ],
   "source": [
    "day_of_week=train[['day_of_week','trip_duration']].groupby('day_of_week').count()\n",
    "day_of_week.plot.bar()\n",
    "plt.xticks(rotation=0)\n",
    "plt.ylabel('Number of trips', fontsize=18)\n",
    "plt.xlabel('day_of_week', fontsize=18)"
   ]
  },
  {
   "cell_type": "markdown",
   "metadata": {},
   "source": [
    "    4. Exploring Hour of Day\n",
    "    * The graph plotted below is not very useful since it is quite big\n",
    "    * Lets plot them by Day"
   ]
  },
  {
   "cell_type": "code",
   "execution_count": 19,
   "metadata": {},
   "outputs": [
    {
     "data": {
      "text/plain": [
       "<matplotlib.text.Text at 0x7f6942667780>"
      ]
     },
     "execution_count": 19,
     "metadata": {},
     "output_type": "execute_result"
    },
    {
     "data": {
      "image/png": "[encoded data removed]",
      "text/plain": [
       "<matplotlib.figure.Figure at 0x7f69420d1320>"
      ]
     },
     "metadata": {},
     "output_type": "display_data"
    }
   ],
   "source": [
    "hour_of_day=train[['day_of_week','hour_of_day','trip_duration']].groupby(['day_of_week','hour_of_day']).count()\n",
    "hour_of_day.plot.bar(stacked=True,sort_columns=True,figsize=(30,30))\n",
    "plt.xticks(rotation=0)\n",
    "plt.ylabel('Number of trips', fontsize=18)\n",
    "plt.xlabel('hour_of_day', fontsize=18)"
   ]
  },
  {
   "cell_type": "code",
   "execution_count": 20,
   "metadata": {},
   "outputs": [
    {
     "data": {
      "text/plain": [
       "<matplotlib.text.Text at 0x7f6941fc79e8>"
      ]
     },
     "execution_count": 20,
     "metadata": {},
     "output_type": "execute_result"
    },
    {
     "data": {
      "image/png": "[encoded data removed]",
      "text/plain": [
       "<matplotlib.figure.Figure at 0x7f6942d235c0>"
      ]
     },
     "metadata": {},
     "output_type": "display_data"
    }
   ],
   "source": [
    "hour_of_day=train[train['day_of_week']==0][['day_of_week','hour_of_day','trip_duration']].groupby(['day_of_week','hour_of_day']).count()\n",
    "hour_of_day.plot.bar(stacked=True,colormap='prism',sort_columns=True,figsize=(20,5))\n",
    "plt.xticks(rotation=0)\n",
    "plt.title(\"Monday\",fontsize=20)\n",
    "plt.ylabel('Number of trips', fontsize=18)\n",
    "plt.xlabel('hour_of_day', fontsize=18)"
   ]
  },
  {
   "cell_type": "markdown",
   "metadata": {},
   "source": [
    "From daily charts, Monday-Thursday peaks are at 1800 and 1900 Hr mark, relating to regular work end times and party hours 2100- 0000 Hours trend downwards"
   ]
  },
  {
   "cell_type": "code",
   "execution_count": 21,
   "metadata": {},
   "outputs": [
    {
     "data": {
      "text/plain": [
       "<matplotlib.text.Text at 0x7f6942d4ba90>"
      ]
     },
     "execution_count": 21,
     "metadata": {},
     "output_type": "execute_result"
    },
    {
     "data": {
      "image/png": "[encoded data removed]",
      "text/plain": [
       "<matplotlib.figure.Figure at 0x7f6941d83e80>"
      ]
     },
     "metadata": {},
     "output_type": "display_data"
    }
   ],
   "source": [
    "hour_of_day=train[train['day_of_week']==1][['day_of_week','hour_of_day','trip_duration']].groupby(['day_of_week','hour_of_day']).count()\n",
    "hour_of_day.plot.bar(stacked=True,colormap='rainbow',sort_columns=True,figsize=(20,5))\n",
    "plt.xticks(rotation=0)\n",
    "plt.title(\"Tuesday\",fontsize=20)\n",
    "plt.ylabel('Number of trips', fontsize=18)\n",
    "plt.xlabel('hour_of_day', fontsize=18)"
   ]
  },
  {
   "cell_type": "code",
   "execution_count": 22,
   "metadata": {},
   "outputs": [
    {
     "data": {
      "text/plain": [
       "<matplotlib.text.Text at 0x7f6942218588>"
      ]
     },
     "execution_count": 22,
     "metadata": {},
     "output_type": "execute_result"
    },
    {
     "data": {
      "image/png": "[encoded data removed]",
      "text/plain": [
       "<matplotlib.figure.Figure at 0x7f69423e85f8>"
      ]
     },
     "metadata": {},
     "output_type": "display_data"
    }
   ],
   "source": [
    "hour_of_day=train[train['day_of_week']==2][['day_of_week','hour_of_day','trip_duration']].groupby(['day_of_week','hour_of_day']).count()\n",
    "hour_of_day.plot.bar(stacked=True,colormap='coolwarm',sort_columns=True,figsize=(20,5))\n",
    "plt.xticks(rotation=0)\n",
    "plt.title(\"Wednesday\",fontsize=20)\n",
    "plt.ylabel('Number of trips', fontsize=18)\n",
    "plt.xlabel('hour_of_day', fontsize=18)"
   ]
  },
  {
   "cell_type": "code",
   "execution_count": 23,
   "metadata": {},
   "outputs": [
    {
     "data": {
      "text/plain": [
       "<matplotlib.text.Text at 0x7f69419f7dd8>"
      ]
     },
     "execution_count": 23,
     "metadata": {},
     "output_type": "execute_result"
    },
    {
     "data": {
      "image/png": "[encoded data removed]",
      "text/plain": [
       "<matplotlib.figure.Figure at 0x7f6941cf5278>"
      ]
     },
     "metadata": {},
     "output_type": "display_data"
    }
   ],
   "source": [
    "hour_of_day=train[train['day_of_week']==3][['day_of_week','hour_of_day','trip_duration']].groupby(['day_of_week','hour_of_day']).count()\n",
    "hour_of_day.plot.bar(stacked=True,colormap='CMRmap',sort_columns=True,figsize=(20,5))\n",
    "plt.xticks(rotation=0)\n",
    "plt.title(\"Thursday\",fontsize=20)\n",
    "plt.ylabel('Number of trips', fontsize=18)\n",
    "plt.xlabel('hour_of_day', fontsize=18)"
   ]
  },
  {
   "cell_type": "code",
   "execution_count": 24,
   "metadata": {},
   "outputs": [
    {
     "data": {
      "text/plain": [
       "<matplotlib.text.Text at 0x7f694303ef60>"
      ]
     },
     "execution_count": 24,
     "metadata": {},
     "output_type": "execute_result"
    },
    {
     "data": {
      "image/png": "[encoded data removed]",
      "text/plain": [
       "<matplotlib.figure.Figure at 0x7f6969a28eb8>"
      ]
     },
     "metadata": {},
     "output_type": "display_data"
    }
   ],
   "source": [
    "hour_of_day=train[train['day_of_week']==4][['day_of_week','hour_of_day','trip_duration']].groupby(['day_of_week','hour_of_day']).count()\n",
    "hour_of_day.plot.bar(stacked=True,colormap='prism',sort_columns=True,figsize=(20,5))\n",
    "plt.xticks(rotation=0)\n",
    "plt.title(\"Friday\",fontsize=20)\n",
    "plt.ylabel('Number of trips', fontsize=18)\n",
    "plt.xlabel('hour_of_day', fontsize=18)"
   ]
  },
  {
   "cell_type": "markdown",
   "metadata": {},
   "source": [
    "We See the weekday trends shifting for Friday, Saturday and Sundays.\n",
    "\n",
    "There are higher number of trips taken in the time frames of 2100-0000 Hrs compared to weekdays.\n",
    "Infact for Saturdays, the peaks are at 2300 and 0000 Hours (PARTY!!!)\n",
    "Same for Sunday 0000, Early Sunday Party Hours.\n",
    "\n",
    "Also checkout the trips trend higher for afterParty hours for Saturday and Sunday early mornings!!! "
   ]
  },
  {
   "cell_type": "code",
   "execution_count": 25,
   "metadata": {},
   "outputs": [
    {
     "data": {
      "text/plain": [
       "<matplotlib.text.Text at 0x7f69682449e8>"
      ]
     },
     "execution_count": 25,
     "metadata": {},
     "output_type": "execute_result"
    },
    {
     "data": {
      "image/png": "[encoded data removed]",
      "text/plain": [
       "<matplotlib.figure.Figure at 0x7f694354c080>"
      ]
     },
     "metadata": {},
     "output_type": "display_data"
    }
   ],
   "source": [
    "hour_of_day=train[train['day_of_week']==5][['day_of_week','hour_of_day','trip_duration']].groupby(['day_of_week','hour_of_day']).count()\n",
    "hour_of_day.plot.bar(stacked=True,colormap='prism',sort_columns=True,figsize=(20,5))\n",
    "plt.xticks(rotation=0)\n",
    "plt.title(\"Saturday\",fontsize=20)\n",
    "plt.ylabel('Number of trips', fontsize=18)\n",
    "plt.xlabel('hour_of_day', fontsize=18)"
   ]
  },
  {
   "cell_type": "code",
   "execution_count": 26,
   "metadata": {},
   "outputs": [
    {
     "data": {
      "text/plain": [
       "<matplotlib.text.Text at 0x7f69681089b0>"
      ]
     },
     "execution_count": 26,
     "metadata": {},
     "output_type": "execute_result"
    },
    {
     "data": {
      "image/png": "[encoded data removed]",
      "text/plain": [
       "<matplotlib.figure.Figure at 0x7f69681dfbe0>"
      ]
     },
     "metadata": {},
     "output_type": "display_data"
    }
   ],
   "source": [
    "hour_of_day=train[train['day_of_week']==6][['day_of_week','hour_of_day','trip_duration']].groupby(['day_of_week','hour_of_day']).count()\n",
    "hour_of_day.plot.bar(stacked=True,colormap='prism',sort_columns=True,figsize=(20,5))\n",
    "plt.xticks(rotation=0)\n",
    "plt.title(\"Sunday\",fontsize=20)\n",
    "plt.ylabel('Number of trips', fontsize=18)\n",
    "plt.xlabel('hour_of_day', fontsize=18)"
   ]
  },
  {
   "cell_type": "markdown",
   "metadata": {},
   "source": [
    "    5. Exploring the variable store_and_fwd_flag\n",
    "    We would only be taking a quick look at the variable counts to see if we are missing any records."
   ]
  },
  {
   "cell_type": "code",
   "execution_count": 27,
   "metadata": {},
   "outputs": [
    {
     "data": {
      "text/html": [
       "<div>\n",
       "<style>\n",
       "    .dataframe thead tr:only-child th {\n",
       "        text-align: right;\n",
       "    }\n",
       "\n",
       "    .dataframe thead th {\n",
       "        text-align: left;\n",
       "    }\n",
       "\n",
       "    .dataframe tbody tr th {\n",
       "        vertical-align: top;\n",
       "    }\n",
       "</style>\n",
       "<table border=\"1\" class=\"dataframe\">\n",
       "  <thead>\n",
       "    <tr style=\"text-align: right;\">\n",
       "      <th></th>\n",
       "      <th>passenger_count_x</th>\n",
       "    </tr>\n",
       "    <tr>\n",
       "      <th>store_and_fwd_flag</th>\n",
       "      <th></th>\n",
       "    </tr>\n",
       "  </thead>\n",
       "  <tbody>\n",
       "    <tr>\n",
       "      <th>N</th>\n",
       "      <td>1442514</td>\n",
       "    </tr>\n",
       "    <tr>\n",
       "      <th>Y</th>\n",
       "      <td>7976</td>\n",
       "    </tr>\n",
       "  </tbody>\n",
       "</table>\n",
       "</div>"
      ],
      "text/plain": [
       "                    passenger_count_x\n",
       "store_and_fwd_flag                   \n",
       "N                             1442514\n",
       "Y                                7976"
      ]
     },
     "execution_count": 27,
     "metadata": {},
     "output_type": "execute_result"
    }
   ],
   "source": [
    "train[['store_and_fwd_flag','passenger_count_x']].groupby('store_and_fwd_flag').count()"
   ]
  },
  {
   "cell_type": "markdown",
   "metadata": {},
   "source": [
    "## Lets create our final Training Data"
   ]
  },
  {
   "cell_type": "code",
   "execution_count": 28,
   "metadata": {},
   "outputs": [
    {
     "data": {
      "text/html": [
       "<div>\n",
       "<style>\n",
       "    .dataframe thead tr:only-child th {\n",
       "        text-align: right;\n",
       "    }\n",
       "\n",
       "    .dataframe thead th {\n",
       "        text-align: left;\n",
       "    }\n",
       "\n",
       "    .dataframe tbody tr th {\n",
       "        vertical-align: top;\n",
       "    }\n",
       "</style>\n",
       "<table border=\"1\" class=\"dataframe\">\n",
       "  <thead>\n",
       "    <tr style=\"text-align: right;\">\n",
       "      <th></th>\n",
       "      <th>day_of_week</th>\n",
       "      <th>hour_of_day</th>\n",
       "      <th>store_and_fwd_flag</th>\n",
       "      <th>dist_km</th>\n",
       "      <th>passenger_count</th>\n",
       "      <th>vendor_id</th>\n",
       "      <th>trip_duration_mins</th>\n",
       "    </tr>\n",
       "  </thead>\n",
       "  <tbody>\n",
       "    <tr>\n",
       "      <th>0</th>\n",
       "      <td>0</td>\n",
       "      <td>17</td>\n",
       "      <td>N</td>\n",
       "      <td>1.498991</td>\n",
       "      <td>1</td>\n",
       "      <td>2</td>\n",
       "      <td>7.583333</td>\n",
       "    </tr>\n",
       "    <tr>\n",
       "      <th>1</th>\n",
       "      <td>6</td>\n",
       "      <td>0</td>\n",
       "      <td>N</td>\n",
       "      <td>1.806074</td>\n",
       "      <td>1</td>\n",
       "      <td>1</td>\n",
       "      <td>11.050000</td>\n",
       "    </tr>\n",
       "    <tr>\n",
       "      <th>2</th>\n",
       "      <td>1</td>\n",
       "      <td>11</td>\n",
       "      <td>N</td>\n",
       "      <td>6.387103</td>\n",
       "      <td>1</td>\n",
       "      <td>2</td>\n",
       "      <td>35.400000</td>\n",
       "    </tr>\n",
       "    <tr>\n",
       "      <th>3</th>\n",
       "      <td>2</td>\n",
       "      <td>19</td>\n",
       "      <td>N</td>\n",
       "      <td>1.485965</td>\n",
       "      <td>1</td>\n",
       "      <td>2</td>\n",
       "      <td>7.150000</td>\n",
       "    </tr>\n",
       "    <tr>\n",
       "      <th>4</th>\n",
       "      <td>5</td>\n",
       "      <td>13</td>\n",
       "      <td>N</td>\n",
       "      <td>1.188962</td>\n",
       "      <td>1</td>\n",
       "      <td>2</td>\n",
       "      <td>7.250000</td>\n",
       "    </tr>\n",
       "  </tbody>\n",
       "</table>\n",
       "</div>"
      ],
      "text/plain": [
       "   day_of_week  hour_of_day store_and_fwd_flag   dist_km  passenger_count  \\\n",
       "0            0           17                  N  1.498991                1   \n",
       "1            6            0                  N  1.806074                1   \n",
       "2            1           11                  N  6.387103                1   \n",
       "3            2           19                  N  1.485965                1   \n",
       "4            5           13                  N  1.188962                1   \n",
       "\n",
       "   vendor_id  trip_duration_mins  \n",
       "0          2            7.583333  \n",
       "1          1           11.050000  \n",
       "2          2           35.400000  \n",
       "3          2            7.150000  \n",
       "4          2            7.250000  "
      ]
     },
     "execution_count": 28,
     "metadata": {},
     "output_type": "execute_result"
    }
   ],
   "source": [
    "train['trip_duration_mins']=train['trip_duration']/60\n",
    "train=train[['day_of_week','hour_of_day','store_and_fwd_flag','dist_km','passenger_count_x','vendor_id','trip_duration_mins']]\n",
    "train.columns=['day_of_week','hour_of_day','store_and_fwd_flag','dist_km','passenger_count','vendor_id','trip_duration_mins']\n",
    "train.head()"
   ]
  },
  {
   "cell_type": "markdown",
   "metadata": {},
   "source": [
    "1. Converting the Categorical Variables 'day_of_week','hour_of_day' and 'store_and_fwd_flag' into numerical variables by OneHotEncoding and dropping one column to avoid Dummy Variable Trap\n",
    "\n",
    "2. Next Splitting the dataset into X_Train and X_test"
   ]
  },
  {
   "cell_type": "code",
   "execution_count": 29,
   "metadata": {},
   "outputs": [
    {
     "data": {
      "text/plain": [
       "(1450490, 35)"
      ]
     },
     "execution_count": 29,
     "metadata": {},
     "output_type": "execute_result"
    }
   ],
   "source": [
    "\n",
    "X=train.iloc[:, 0:6].values\n",
    "Y=train.iloc[:,6].values\n",
    "from sklearn.preprocessing import LabelEncoder, OneHotEncoder\n",
    "\n",
    "\n",
    "labelencoder_X_1 = LabelEncoder()\n",
    "X[:, 2] = labelencoder_X_1.fit_transform(X[:, 2])\n",
    "\n",
    "labelencoder_X_2 = LabelEncoder()\n",
    "X[:, 0] = labelencoder_X_2.fit_transform(X[:, 0])\n",
    "\n",
    "labelencoder_X_3 = LabelEncoder()\n",
    "X[:, 1] = labelencoder_X_3.fit_transform(X[:, 1])\n",
    "\n",
    "onehotencoder = OneHotEncoder(categorical_features = [0,1,2])\n",
    "\n",
    "\n",
    "X = onehotencoder.fit_transform(X).toarray()\n",
    "\n",
    "X=np.delete(X,[2],axis=1)\n",
    "X.shape"
   ]
  },
  {
   "cell_type": "code",
   "execution_count": 30,
   "metadata": {},
   "outputs": [
    {
     "data": {
      "text/plain": [
       "(1015343, 35)"
      ]
     },
     "execution_count": 30,
     "metadata": {},
     "output_type": "execute_result"
    }
   ],
   "source": [
    "from sklearn.model_selection import train_test_split\n",
    "\n",
    "X_train,X_test,Y_train,Y_test=train_test_split(X,Y,test_size=0.3)\n",
    "\n",
    "\n",
    "from sklearn.preprocessing import StandardScaler\n",
    "sc=StandardScaler()\n",
    "X_train=sc.fit_transform(X_train)\n",
    "X_test=sc.fit_transform(X_test)\n",
    "\n",
    "\n",
    "X_train.shape"
   ]
  },
  {
   "cell_type": "markdown",
   "metadata": {},
   "source": [
    "### Artificial Neural Network\n",
    "\n",
    "1. Since this is a Regression Problem, we are using a KerasRegressor to predict the final continuous variable \"Trip_duration\"\n",
    "\n",
    "2. KerasRegression allows us to build in Kfold validation process as well.\n",
    "\n",
    "3. Since the KerasRegression takes in a function for argument, we have to create a function (baseline_model) here to build, initialize and compile the ANN\n",
    "\n",
    "4. This ANN consists of 6 hidden layer with 35 input nodes and uses a Relu Activation function.\n",
    "\n",
    "5. Adam as optimizer and mean_squared_error as our loss measuring functiton for back propagation, we are ready to train the model with 10000 epochs and a batch size of 1000.\n",
    "\n",
    "6. FInally measuring the Mean Absolute error for out X_test dataset"
   ]
  },
  {
   "cell_type": "code",
   "execution_count": 31,
   "metadata": {},
   "outputs": [
    {
     "name": "stderr",
     "output_type": "stream",
     "text": [
      "Using TensorFlow backend.\n"
     ]
    },
    {
     "name": "stdout",
     "output_type": "stream",
     "text": [
      "Results: 33.72 (0.47) MSE\n"
     ]
    }
   ],
   "source": [
    "\n",
    "from keras.models import Sequential\n",
    "from keras.layers import Dense\n",
    "from keras.wrappers.scikit_learn import KerasRegressor\n",
    "from sklearn.model_selection import cross_val_score\n",
    "from sklearn.model_selection import KFold\n",
    "from sklearn.pipeline import Pipeline\n",
    "\n",
    "\n",
    "def baseline_model():\n",
    "    model = Sequential()\n",
    "    model.add(Dense(35, input_dim=35, kernel_initializer='glorot_uniform', activation='relu'))\n",
    "    model.add(Dense(35,kernel_initializer=\"glorot_uniform\",activation='relu'))\n",
    "    model.add(Dense(35,kernel_initializer=\"glorot_uniform\",activation='relu'))\n",
    "    model.add(Dense(35,kernel_initializer=\"glorot_uniform\",activation='relu'))\n",
    "    model.add(Dense(35,kernel_initializer=\"glorot_uniform\",activation='relu'))\n",
    "    model.add(Dense(35,kernel_initializer=\"glorot_uniform\",activation='relu'))\n",
    "    model.add(Dense(1, kernel_initializer='glorot_uniform'))\n",
    "    # Compile model\n",
    "    model.compile(loss='mean_squared_error', optimizer='adam')\n",
    "    return model\n",
    "    \n",
    "\n",
    "estimator = KerasRegressor(build_fn=baseline_model, nb_epoch=10000, batch_size=1000,verbose=0)\n",
    "kfold = KFold(n_splits=10, random_state=0)\n",
    "results = cross_val_score(estimator, X_train, Y_train, cv=kfold, n_jobs=-1)\n",
    "print(\"Results: %.2f (%.2f) MSE\" % (results.mean(), results.std()))"
   ]
  },
  {
   "cell_type": "code",
   "execution_count": 32,
   "metadata": {
    "collapsed": true
   },
   "outputs": [],
   "source": [
    "estimator.fit(X_train,Y_train)\n",
    "prediction=estimator.predict(X_test)"
   ]
  },
  {
   "cell_type": "code",
   "execution_count": 33,
   "metadata": {},
   "outputs": [
    {
     "data": {
      "text/plain": [
       "3.8405571069144768"
      ]
     },
     "execution_count": 33,
     "metadata": {},
     "output_type": "execute_result"
    }
   ],
   "source": [
    "from keras import metrics\n",
    "import tensorflow as tf\n",
    "mae=metrics.mae(Y_test,prediction)\n",
    "tf.InteractiveSession()\n",
    "mae.eval()"
   ]
  },
  {
   "cell_type": "markdown",
   "metadata": {},
   "source": [
    "## Formating our Test or to be predicted Dataset\n",
    "\n",
    "Since the input test dataset should be the same format as the training dataset used to train our model, lets do the following:\n",
    "\n",
    "1. Use One Hot Encoder to encode the same three variables to convert the categorical variables to numerical\n",
    "\n",
    "2. Standardize the variables using the same StandardScaler object created earlier.\n",
    "\n",
    "3. Finally predict the test_dataset using the same model that was trained.\n",
    "\n",
    "4. Export the output prediction into a csv with the necessary fields \"newyorktaxitrip_output\""
   ]
  },
  {
   "cell_type": "code",
   "execution_count": 34,
   "metadata": {},
   "outputs": [
    {
     "data": {
      "text/html": [
       "<div>\n",
       "<style>\n",
       "    .dataframe thead tr:only-child th {\n",
       "        text-align: right;\n",
       "    }\n",
       "\n",
       "    .dataframe thead th {\n",
       "        text-align: left;\n",
       "    }\n",
       "\n",
       "    .dataframe tbody tr th {\n",
       "        vertical-align: top;\n",
       "    }\n",
       "</style>\n",
       "<table border=\"1\" class=\"dataframe\">\n",
       "  <thead>\n",
       "    <tr style=\"text-align: right;\">\n",
       "      <th></th>\n",
       "      <th>day_of_week</th>\n",
       "      <th>hour_of_day</th>\n",
       "      <th>store_and_fwd_flag</th>\n",
       "      <th>dist_km</th>\n",
       "      <th>passenger_count</th>\n",
       "      <th>vendor_id</th>\n",
       "      <th>id</th>\n",
       "    </tr>\n",
       "  </thead>\n",
       "  <tbody>\n",
       "    <tr>\n",
       "      <th>0</th>\n",
       "      <td>3</td>\n",
       "      <td>23</td>\n",
       "      <td>N</td>\n",
       "      <td>2.747288</td>\n",
       "      <td>1</td>\n",
       "      <td>1</td>\n",
       "      <td>id3004672</td>\n",
       "    </tr>\n",
       "    <tr>\n",
       "      <th>1</th>\n",
       "      <td>3</td>\n",
       "      <td>23</td>\n",
       "      <td>N</td>\n",
       "      <td>2.760105</td>\n",
       "      <td>1</td>\n",
       "      <td>1</td>\n",
       "      <td>id3505355</td>\n",
       "    </tr>\n",
       "    <tr>\n",
       "      <th>2</th>\n",
       "      <td>3</td>\n",
       "      <td>23</td>\n",
       "      <td>N</td>\n",
       "      <td>1.306565</td>\n",
       "      <td>1</td>\n",
       "      <td>1</td>\n",
       "      <td>id1217141</td>\n",
       "    </tr>\n",
       "    <tr>\n",
       "      <th>3</th>\n",
       "      <td>3</td>\n",
       "      <td>23</td>\n",
       "      <td>N</td>\n",
       "      <td>5.270742</td>\n",
       "      <td>1</td>\n",
       "      <td>2</td>\n",
       "      <td>id2150126</td>\n",
       "    </tr>\n",
       "    <tr>\n",
       "      <th>4</th>\n",
       "      <td>3</td>\n",
       "      <td>23</td>\n",
       "      <td>N</td>\n",
       "      <td>0.961143</td>\n",
       "      <td>1</td>\n",
       "      <td>1</td>\n",
       "      <td>id1598245</td>\n",
       "    </tr>\n",
       "  </tbody>\n",
       "</table>\n",
       "</div>"
      ],
      "text/plain": [
       "   day_of_week  hour_of_day store_and_fwd_flag   dist_km  passenger_count  \\\n",
       "0            3           23                  N  2.747288                1   \n",
       "1            3           23                  N  2.760105                1   \n",
       "2            3           23                  N  1.306565                1   \n",
       "3            3           23                  N  5.270742                1   \n",
       "4            3           23                  N  0.961143                1   \n",
       "\n",
       "   vendor_id         id  \n",
       "0          1  id3004672  \n",
       "1          1  id3505355  \n",
       "2          1  id1217141  \n",
       "3          2  id2150126  \n",
       "4          1  id1598245  "
      ]
     },
     "execution_count": 34,
     "metadata": {},
     "output_type": "execute_result"
    }
   ],
   "source": [
    "del test['date_of_trip']\n",
    "test.head()"
   ]
  },
  {
   "cell_type": "code",
   "execution_count": 35,
   "metadata": {
    "collapsed": true
   },
   "outputs": [],
   "source": [
    "predict_X=test.iloc[:, 0:6].values\n",
    "\n",
    "from sklearn.preprocessing import LabelEncoder, OneHotEncoder\n",
    "\n",
    "\n",
    "labelencoder_X_1 = LabelEncoder()\n",
    "predict_X[:, 2] = labelencoder_X_1.fit_transform(predict_X[:, 2])\n",
    "\n",
    "labelencoder_X_2 = LabelEncoder()\n",
    "predict_X[:, 0] = labelencoder_X_2.fit_transform(predict_X[:, 0])\n",
    "\n",
    "labelencoder_X_3 = LabelEncoder()\n",
    "predict_X[:, 1] = labelencoder_X_3.fit_transform(predict_X[:, 1])\n",
    "\n",
    "onehotencoder = OneHotEncoder(categorical_features = [0,1,2])\n",
    "\n",
    "\n",
    "predict_X = onehotencoder.fit_transform(predict_X).toarray()"
   ]
  },
  {
   "cell_type": "code",
   "execution_count": 36,
   "metadata": {},
   "outputs": [
    {
     "data": {
      "text/plain": [
       "(625134, 35)"
      ]
     },
     "execution_count": 36,
     "metadata": {},
     "output_type": "execute_result"
    }
   ],
   "source": [
    "predict_X=np.delete(predict_X,[2],axis=1)\n",
    "predict_X.shape"
   ]
  },
  {
   "cell_type": "code",
   "execution_count": 37,
   "metadata": {},
   "outputs": [
    {
     "data": {
      "text/plain": [
       "array([[-0.38414801, -0.40293503,  2.38511774, ..., -0.16080227,\n",
       "        -0.50466678, -1.07238053],\n",
       "       [-0.38414801, -0.40293503,  2.38511774, ..., -0.15780311,\n",
       "        -0.50466678, -1.07238053],\n",
       "       [-0.38414801, -0.40293503,  2.38511774, ..., -0.49792571,\n",
       "        -0.50466678, -1.07238053],\n",
       "       ..., \n",
       "       [-0.38414801, -0.40293503, -0.41926651, ...,  1.10488044,\n",
       "         0.25794009, -1.07238053],\n",
       "       [-0.38414801, -0.40293503, -0.41926651, ...,  3.96685559,\n",
       "        -0.50466678, -1.07238053],\n",
       "       [-0.38414801, -0.40293503, -0.41926651, ...,  0.58484814,\n",
       "         0.25794009,  0.93250481]])"
      ]
     },
     "execution_count": 37,
     "metadata": {},
     "output_type": "execute_result"
    }
   ],
   "source": [
    "predict_X=sc.fit_transform(predict_X)\n",
    "predict_X"
   ]
  },
  {
   "cell_type": "code",
   "execution_count": 38,
   "metadata": {
    "collapsed": true
   },
   "outputs": [],
   "source": [
    "estimator.fit(X_train,Y_train)\n",
    "prediction_test_dataset=estimator.predict(predict_X)"
   ]
  },
  {
   "cell_type": "code",
   "execution_count": 39,
   "metadata": {
    "collapsed": true
   },
   "outputs": [],
   "source": [
    "scored_dataset=pd.DataFrame(prediction_test_dataset)*60\n",
    "scored_dataset['id']=test['id']\n",
    "scored_dataset.columns=['trip_duration_mins','id']\n",
    "scored_dataset['trip_duration']=scored_dataset['trip_duration_mins'].astype(int)\n",
    "del scored_dataset['trip_duration_mins']"
   ]
  },
  {
   "cell_type": "code",
   "execution_count": 40,
   "metadata": {
    "collapsed": true
   },
   "outputs": [],
   "source": [
    "scored_dataset.to_csv('newyorktaxitrip_output.csv', sep=',', encoding='utf-8')"
   ]
  }
 ],
 "metadata": {
  "kernelspec": {
   "display_name": "Python 3",
   "language": "python",
   "name": "python3"
  },
  "language_info": {
   "codemirror_mode": {
    "name": "ipython",
    "version": 3
   },
   "file_extension": ".py",
   "mimetype": "text/x-python",
   "name": "python",
   "nbconvert_exporter": "python",
   "pygments_lexer": "ipython3",
   "version": "3.6.2"
  }
 },
 "nbformat": 4,
 "nbformat_minor": 2
}
